{
 "cells": [
  {
   "cell_type": "code",
   "execution_count": 34,
   "metadata": {},
   "outputs": [
    {
     "data": {
      "text/plain": [
       "polars.config.Config"
      ]
     },
     "execution_count": 34,
     "metadata": {},
     "output_type": "execute_result"
    }
   ],
   "source": [
    "import polars as pl\n",
    "from pathlib import Path\n",
    "from providers.config import settings\n",
    "import webbrowser\n",
    "import random\n",
    "\n",
    "pl.Config.set_fmt_str_lengths(200)"
   ]
  },
  {
   "cell_type": "code",
   "execution_count": 16,
   "metadata": {},
   "outputs": [
    {
     "data": {
      "text/html": [
       "<div><style>\n",
       ".dataframe > thead > tr,\n",
       ".dataframe > tbody > tr {\n",
       "  text-align: right;\n",
       "  white-space: pre-wrap;\n",
       "}\n",
       "</style>\n",
       "<small>shape: (662, 7)</small><table border=\"1\" class=\"dataframe\"><thead><tr><th>filename</th><th>gemini-2.0-flash-exp</th><th>gemini-1.5-pro</th><th>gemini-1.5-flash</th><th>gpt-4o-mini</th><th>gpt-4o</th><th>claude-3-5-sonnet-latest</th></tr><tr><td>str</td><td>f64</td><td>f64</td><td>f64</td><td>f64</td><td>f64</td><td>f64</td></tr></thead><tbody><tr><td>&quot;31365_png.rf.c15a4717175cda592…</td><td>null</td><td>1.0</td><td>0.72</td><td>0.79</td><td>0.83</td><td>1.0</td></tr><tr><td>&quot;3066_png.rf.a271ccaade01ec4a7e…</td><td>1.0</td><td>0.9</td><td>1.0</td><td>1.0</td><td>1.0</td><td>1.0</td></tr><tr><td>&quot;42405_png.rf.29f7f349b16be7e94…</td><td>null</td><td>0.88</td><td>0.87</td><td>0.75</td><td>null</td><td>0.71</td></tr><tr><td>&quot;6464_png.rf.87df45257826205d38…</td><td>null</td><td>1.0</td><td>0.66</td><td>0.82</td><td>null</td><td>null</td></tr><tr><td>&quot;14587_png.rf.8ac51dfae9c3323be…</td><td>null</td><td>null</td><td>0.52</td><td>0.22</td><td>null</td><td>null</td></tr><tr><td>&hellip;</td><td>&hellip;</td><td>&hellip;</td><td>&hellip;</td><td>&hellip;</td><td>&hellip;</td><td>&hellip;</td></tr><tr><td>&quot;4369_png.rf.22210329dce81c468f…</td><td>null</td><td>0.94</td><td>null</td><td>0.33</td><td>0.32</td><td>0.62</td></tr><tr><td>&quot;20008_png.rf.11bd3ea6ad0610c46…</td><td>null</td><td>0.85</td><td>null</td><td>0.26</td><td>0.02</td><td>0.01</td></tr><tr><td>&quot;3794_png.rf.f3b9a9fce3f6f5b4e4…</td><td>null</td><td>0.58</td><td>null</td><td>0.08</td><td>null</td><td>0.5</td></tr><tr><td>&quot;29352_png.rf.262ea50e23c787b4f…</td><td>null</td><td>0.78</td><td>null</td><td>0.7</td><td>null</td><td>0.49</td></tr><tr><td>&quot;999_png.rf.db81a5df0db1f0c4854…</td><td>null</td><td>null</td><td>null</td><td>0.21</td><td>null</td><td>null</td></tr></tbody></table></div>"
      ],
      "text/plain": [
       "shape: (662, 7)\n",
       "┌───────────────┬──────────────┬──────────────┬──────────────┬─────────────┬────────┬──────────────┐\n",
       "│ filename      ┆ gemini-2.0-f ┆ gemini-1.5-p ┆ gemini-1.5-f ┆ gpt-4o-mini ┆ gpt-4o ┆ claude-3-5-s │\n",
       "│ ---           ┆ lash-exp     ┆ ro           ┆ lash         ┆ ---         ┆ ---    ┆ onnet-latest │\n",
       "│ str           ┆ ---          ┆ ---          ┆ ---          ┆ f64         ┆ f64    ┆ ---          │\n",
       "│               ┆ f64          ┆ f64          ┆ f64          ┆             ┆        ┆ f64          │\n",
       "╞═══════════════╪══════════════╪══════════════╪══════════════╪═════════════╪════════╪══════════════╡\n",
       "│ 31365_png.rf. ┆ null         ┆ 1.0          ┆ 0.72         ┆ 0.79        ┆ 0.83   ┆ 1.0          │\n",
       "│ c15a4717175cd ┆              ┆              ┆              ┆             ┆        ┆              │\n",
       "│ a592…         ┆              ┆              ┆              ┆             ┆        ┆              │\n",
       "│ 3066_png.rf.a ┆ 1.0          ┆ 0.9          ┆ 1.0          ┆ 1.0         ┆ 1.0    ┆ 1.0          │\n",
       "│ 271ccaade01ec ┆              ┆              ┆              ┆             ┆        ┆              │\n",
       "│ 4a7e…         ┆              ┆              ┆              ┆             ┆        ┆              │\n",
       "│ 42405_png.rf. ┆ null         ┆ 0.88         ┆ 0.87         ┆ 0.75        ┆ null   ┆ 0.71         │\n",
       "│ 29f7f349b16be ┆              ┆              ┆              ┆             ┆        ┆              │\n",
       "│ 7e94…         ┆              ┆              ┆              ┆             ┆        ┆              │\n",
       "│ 6464_png.rf.8 ┆ null         ┆ 1.0          ┆ 0.66         ┆ 0.82        ┆ null   ┆ null         │\n",
       "│ 7df4525782620 ┆              ┆              ┆              ┆             ┆        ┆              │\n",
       "│ 5d38…         ┆              ┆              ┆              ┆             ┆        ┆              │\n",
       "│ 14587_png.rf. ┆ null         ┆ null         ┆ 0.52         ┆ 0.22        ┆ null   ┆ null         │\n",
       "│ 8ac51dfae9c33 ┆              ┆              ┆              ┆             ┆        ┆              │\n",
       "│ 23be…         ┆              ┆              ┆              ┆             ┆        ┆              │\n",
       "│ …             ┆ …            ┆ …            ┆ …            ┆ …           ┆ …      ┆ …            │\n",
       "│ 4369_png.rf.2 ┆ null         ┆ 0.94         ┆ null         ┆ 0.33        ┆ 0.32   ┆ 0.62         │\n",
       "│ 2210329dce81c ┆              ┆              ┆              ┆             ┆        ┆              │\n",
       "│ 468f…         ┆              ┆              ┆              ┆             ┆        ┆              │\n",
       "│ 20008_png.rf. ┆ null         ┆ 0.85         ┆ null         ┆ 0.26        ┆ 0.02   ┆ 0.01         │\n",
       "│ 11bd3ea6ad061 ┆              ┆              ┆              ┆             ┆        ┆              │\n",
       "│ 0c46…         ┆              ┆              ┆              ┆             ┆        ┆              │\n",
       "│ 3794_png.rf.f ┆ null         ┆ 0.58         ┆ null         ┆ 0.08        ┆ null   ┆ 0.5          │\n",
       "│ 3b9a9fce3f6f5 ┆              ┆              ┆              ┆             ┆        ┆              │\n",
       "│ b4e4…         ┆              ┆              ┆              ┆             ┆        ┆              │\n",
       "│ 29352_png.rf. ┆ null         ┆ 0.78         ┆ null         ┆ 0.7         ┆ null   ┆ 0.49         │\n",
       "│ 262ea50e23c78 ┆              ┆              ┆              ┆             ┆        ┆              │\n",
       "│ 7b4f…         ┆              ┆              ┆              ┆             ┆        ┆              │\n",
       "│ 999_png.rf.db ┆ null         ┆ null         ┆ null         ┆ 0.21        ┆ null   ┆ null         │\n",
       "│ 81a5df0db1f0c ┆              ┆              ┆              ┆             ┆        ┆              │\n",
       "│ 4854…         ┆              ┆              ┆              ┆             ┆        ┆              │\n",
       "└───────────────┴──────────────┴──────────────┴──────────────┴─────────────┴────────┴──────────────┘"
      ]
     },
     "execution_count": 16,
     "metadata": {},
     "output_type": "execute_result"
    }
   ],
   "source": [
    "models = [\n",
    "    \"gemini-2.0-flash-exp\",\n",
    "    \"gemini-1.5-pro\",\n",
    "    \"gemini-1.5-flash\",\n",
    "    \"gpt-4o-mini\",\n",
    "    \"gpt-4o\",\n",
    "    \"claude-3-5-sonnet-latest\",\n",
    "]\n",
    "\n",
    "dfs = []\n",
    "for model in models:\n",
    "    df = pl.read_csv(f\"./scores/{model}_scores.csv\")\n",
    "    dfs.append(df.rename({\"score\": model}))\n",
    "\n",
    "merged_df = dfs[0]\n",
    "for df in dfs[1:]:\n",
    "    merged_df = merged_df.join(df, on=\"filename\", how=\"full\", coalesce=True)\n",
    "\n",
    "merged_df = merged_df.with_columns(pl.col(pl.Float64).round(2))\n",
    "merged_df"
   ]
  },
  {
   "cell_type": "code",
   "execution_count": 74,
   "metadata": {},
   "outputs": [
    {
     "name": "stdout",
     "output_type": "stream",
     "text": [
      "36278_png.rf.745f6e6efb75dd8a2247cad732e53033.html\n",
      "None\n",
      "/Users/sergey/Downloads/rd-tablebench/outputs/gpt-4o-mini-raw/36278_png.rf.745f6e6efb75dd8a2247cad732e53033.html\n",
      "/Users/sergey/Downloads/rd-tablebench/groundtruth/36278_png.rf.745f6e6efb75dd8a2247cad732e53033.html\n",
      "/Users/sergey/Downloads/rd-tablebench/pdfs/36278_png.rf.745f6e6efb75dd8a2247cad732e53033.pdf\n"
     ]
    }
   ],
   "source": [
    "def open_output_file(filename: str, model: str):\n",
    "    url = settings.output_dir / f\"{model}-raw\" / filename\n",
    "    assert url.exists(), f\"File {url} does not exist\"\n",
    "    print(url)\n",
    "\n",
    "    webbrowser.open(str(url))\n",
    "\n",
    "\n",
    "def open_ground_truth_file(filename: str):\n",
    "    url = settings.input_dir / \"groundtruth\" / filename\n",
    "    assert url.exists(), f\"File {url} does not exist\"\n",
    "    print(url)\n",
    "    webbrowser.open(str(url))\n",
    "\n",
    "\n",
    "def open_source_file(filename: str):\n",
    "    url = settings.input_dir / \"pdfs\" / filename.replace(\".html\", \".pdf\")\n",
    "    assert url.exists(), f\"File {url} does not exist\"\n",
    "    print(url)\n",
    "    webbrowser.open(str(url))\n",
    "\n",
    "\n",
    "random_filename = random.choice(merged_df.to_dicts())\n",
    "print(random_filename[\"filename\"])\n",
    "print(random_filename[\"claude-3-5-sonnet-latest\"])\n",
    "open_output_file(random_filename[\"filename\"], \"gpt-4o-mini\")\n",
    "open_ground_truth_file(random_filename[\"filename\"])\n",
    "open_source_file(random_filename[\"filename\"])\n"
   ]
  }
 ],
 "metadata": {
  "kernelspec": {
   "display_name": ".venv",
   "language": "python",
   "name": "python3"
  },
  "language_info": {
   "codemirror_mode": {
    "name": "ipython",
    "version": 3
   },
   "file_extension": ".py",
   "mimetype": "text/x-python",
   "name": "python",
   "nbconvert_exporter": "python",
   "pygments_lexer": "ipython3",
   "version": "3.12.5"
  }
 },
 "nbformat": 4,
 "nbformat_minor": 2
}
